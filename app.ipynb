{
 "cells": [
  {
   "cell_type": "code",
   "execution_count": 1,
   "id": "bbd92e87-0901-4526-b2d7-67bf88f6ac49",
   "metadata": {},
   "outputs": [
    {
     "name": "stdout",
     "output_type": "stream",
     "text": [
      "Model harga rumah disimpan sebagai model.pkl\n"
     ]
    }
   ],
   "source": [
    "# train_model.py\n",
    "from sklearn.linear_model import LinearRegression\n",
    "import numpy as np\n",
    "import pickle\n",
    "\n",
    "# Contoh data latih: [luas, kamar, lokasi]\n",
    "X = np.array([\n",
    "    [100, 3, 0],\n",
    "    [150, 4, 1],\n",
    "    [120, 3, 2],\n",
    "    [80, 2, 0],\n",
    "    [200, 5, 1],\n",
    "    [130, 3, 1],\n",
    "    [90, 2, 2]\n",
    "])\n",
    "\n",
    "# Harga dalam jutaan\n",
    "y = np.array([500, 800, 700, 400, 1000, 750, 450])\n",
    "\n",
    "# Latih model\n",
    "model = LinearRegression()\n",
    "model.fit(X, y)\n",
    "\n",
    "# Simpan model\n",
    "with open('model.pkl', 'wb') as f:\n",
    "    pickle.dump(model, f)\n",
    "\n",
    "print(\"Model harga rumah disimpan sebagai model.pkl\")\n"
   ]
  },
  {
   "cell_type": "code",
   "execution_count": null,
   "id": "e00bdd3e-6ef0-490e-888d-80d10158164d",
   "metadata": {},
   "outputs": [],
   "source": [
    "from flask import Flask, request, jsonify, render_template\n",
    "import pickle\n",
    "import numpy as np\n",
    "import os\n",
    "\n",
    "app = Flask(__name__)\n",
    "\n",
    "# Load model dari file pickle\n",
    "model = pickle.load(open('model.pkl', 'rb'))\n",
    "\n",
    "@app.route('/')\n",
    "def home():\n",
    "    return render_template('index.html')\n",
    "\n",
    "@app.route('/predict', methods=['POST'])\n",
    "def predict():\n",
    "    data = request.get_json()\n",
    "    try:\n",
    "        # Ambil input dari user\n",
    "        luas = float(data['luas'])\n",
    "        kamar = int(data['kamar'])\n",
    "        lokasi = int(data['lokasi'])  # 0 = pusat kota, 1 = pinggiran, 2 = desa\n",
    "\n",
    "        # Buat array fitur untuk prediksi\n",
    "        fitur = np.array([[luas, kamar, lokasi]])\n",
    "        prediksi = model.predict(fitur)[0]\n",
    "\n",
    "        return jsonify({'prediction': f'{prediksi:.2f} juta'})\n",
    "    except:\n",
    "        return jsonify({'prediction': 'Input tidak valid'})\n",
    "\n",
    "# Bagian penting untuk Render: host & port\n",
    "if __name__ == '__main__':\n",
    "    port = int(os.environ.get(\"PORT\", 10000))\n",
    "    app.run(host='0.0.0.0', port=port)\n"
   ]
  }
 ],
 "metadata": {
  "kernelspec": {
   "display_name": "Python [conda env:base] *",
   "language": "python",
   "name": "conda-base-py"
  },
  "language_info": {
   "codemirror_mode": {
    "name": "ipython",
    "version": 3
   },
   "file_extension": ".py",
   "mimetype": "text/x-python",
   "name": "python",
   "nbconvert_exporter": "python",
   "pygments_lexer": "ipython3",
   "version": "3.12.7"
  }
 },
 "nbformat": 4,
 "nbformat_minor": 5
}
